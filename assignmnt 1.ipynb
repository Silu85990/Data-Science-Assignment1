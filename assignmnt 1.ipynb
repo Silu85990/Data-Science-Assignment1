{
 "cells": [
  {
   "cell_type": "code",
   "execution_count": 1,
   "id": "232a41be-7916-4367-9799-f43bb5ac74d1",
   "metadata": {},
   "outputs": [
    {
     "name": "stdout",
     "output_type": "stream",
     "text": [
      "<class 'str'>\n"
     ]
    }
   ],
   "source": [
    "s= 'satya'\n",
    "print(type(s))"
   ]
  },
  {
   "cell_type": "code",
   "execution_count": 2,
   "id": "eeddc173-c3e4-44c2-b1f3-6f1e8b73a5d4",
   "metadata": {},
   "outputs": [
    {
     "name": "stdout",
     "output_type": "stream",
     "text": [
      "<class 'list'>\n"
     ]
    }
   ],
   "source": [
    "l=[2,6,8,9,True,'shree',3.26]\n",
    "print(type(l))"
   ]
  },
  {
   "cell_type": "code",
   "execution_count": 3,
   "id": "a9a2f5da-852a-4122-b4e9-befa82a19b9c",
   "metadata": {},
   "outputs": [
    {
     "name": "stdout",
     "output_type": "stream",
     "text": [
      "<class 'float'>\n"
     ]
    }
   ],
   "source": [
    "f=369.154\n",
    "print(type(f))"
   ]
  },
  {
   "cell_type": "code",
   "execution_count": 4,
   "id": "e848ca35-8a21-4c40-9f55-8fe8b970b936",
   "metadata": {},
   "outputs": [
    {
     "name": "stdout",
     "output_type": "stream",
     "text": [
      "<class 'tuple'>\n"
     ]
    }
   ],
   "source": [
    "t='shree','ram'\n",
    "print(type(t))"
   ]
  },
  {
   "cell_type": "code",
   "execution_count": 5,
   "id": "c20dec74-466d-4786-bb29-80977d81c479",
   "metadata": {},
   "outputs": [
    {
     "name": "stdout",
     "output_type": "stream",
     "text": [
      "<class 'str'>\n"
     ]
    }
   ],
   "source": [
    "var1 = ''\n",
    "print(type(var1))"
   ]
  },
  {
   "cell_type": "code",
   "execution_count": 8,
   "id": "8f7b8e8b-d502-4ed0-bb48-b95feb73df99",
   "metadata": {},
   "outputs": [
    {
     "name": "stdout",
     "output_type": "stream",
     "text": [
      "<class 'str'>\n"
     ]
    }
   ],
   "source": [
    "var2 = '[DS,ML,Python]'\n",
    "print(type(var2))"
   ]
  },
  {
   "cell_type": "code",
   "execution_count": 10,
   "id": "069f42bf-c7f3-4187-bc34-65f5faa0d1b1",
   "metadata": {},
   "outputs": [
    {
     "name": "stdout",
     "output_type": "stream",
     "text": [
      "<class 'list'>\n"
     ]
    }
   ],
   "source": [
    "var3 = [\"Ds\",\"ml\",\"python\"]\n",
    "print(type(var3))"
   ]
  },
  {
   "cell_type": "code",
   "execution_count": 11,
   "id": "1d7af0c9-0d65-440b-ad0d-4f3eb7a00174",
   "metadata": {},
   "outputs": [
    {
     "name": "stdout",
     "output_type": "stream",
     "text": [
      "<class 'float'>\n"
     ]
    }
   ],
   "source": [
    "var4 = 1.\n",
    "print(type(var4))"
   ]
  },
  {
   "cell_type": "code",
   "execution_count": 16,
   "id": "472cd444-e5ec-4f2f-a22f-d454176a48b8",
   "metadata": {},
   "outputs": [
    {
     "name": "stdout",
     "output_type": "stream",
     "text": [
      "5.0\n"
     ]
    }
   ],
   "source": [
    "a=15\n",
    "b=3\n",
    "print(a/b)"
   ]
  },
  {
   "cell_type": "code",
   "execution_count": 20,
   "id": "3b196e24-897a-4722-8c65-2a956efeaa4e",
   "metadata": {},
   "outputs": [
    {
     "name": "stdout",
     "output_type": "stream",
     "text": [
      "5\n"
     ]
    }
   ],
   "source": [
    "c=5\n",
    "d=500\n",
    "print(c%d)"
   ]
  },
  {
   "cell_type": "code",
   "execution_count": 21,
   "id": "192b12fc-1bf2-4943-8029-9e5e1a921b27",
   "metadata": {},
   "outputs": [
    {
     "name": "stdout",
     "output_type": "stream",
     "text": [
      "10\n"
     ]
    }
   ],
   "source": [
    "g=200\n",
    "h=20\n",
    "print(g//h)"
   ]
  },
  {
   "cell_type": "code",
   "execution_count": 24,
   "id": "cc63e8b3-3341-4464-9d4a-7e5a8be210b3",
   "metadata": {},
   "outputs": [
    {
     "name": "stdout",
     "output_type": "stream",
     "text": [
      "32\n"
     ]
    }
   ],
   "source": [
    "j=2\n",
    "h=5\n",
    "print(j**h)"
   ]
  },
  {
   "cell_type": "code",
   "execution_count": 25,
   "id": "2bffc261-f589-487b-8b6d-41695897491a",
   "metadata": {},
   "outputs": [],
   "source": [
    "list_1 = [1, 6, 8, 2.51, True, 54.364, 99, \"silu\", 'pwskill', False]"
   ]
  },
  {
   "cell_type": "code",
   "execution_count": 26,
   "id": "0ee31083-9ab4-4a00-a3f6-eb7489dad7d7",
   "metadata": {},
   "outputs": [
    {
     "name": "stdout",
     "output_type": "stream",
     "text": [
      "<class 'int'>\n",
      "<class 'int'>\n",
      "<class 'int'>\n",
      "<class 'float'>\n",
      "<class 'bool'>\n",
      "<class 'float'>\n",
      "<class 'int'>\n",
      "<class 'str'>\n",
      "<class 'str'>\n",
      "<class 'bool'>\n"
     ]
    }
   ],
   "source": [
    "for k in list_1:\n",
    "    print(type(k))"
   ]
  },
  {
   "cell_type": "code",
   "execution_count": 30,
   "id": "fba44654-c224-4b88-a00a-4e8b0604ce11",
   "metadata": {},
   "outputs": [
    {
     "ename": "SyntaxError",
     "evalue": "invalid syntax (3390979290.py, line 6)",
     "output_type": "error",
     "traceback": [
      "\u001b[0;36m  Cell \u001b[0;32mIn[30], line 6\u001b[0;36m\u001b[0m\n\u001b[0;31m    count += 1:\u001b[0m\n\u001b[0m              ^\u001b[0m\n\u001b[0;31mSyntaxError\u001b[0m\u001b[0;31m:\u001b[0m invalid syntax\n"
     ]
    }
   ],
   "source": [
    "a1=30\n",
    "b1=3\n",
    "count=0\n",
    "while A % B == 0:\n",
    "    a1 = a1 / b1\n",
    "    count += 1:\n",
    "        print(f\"a1 is divisible by b1 {count} times.\")"
   ]
  },
  {
   "cell_type": "code",
   "execution_count": 28,
   "id": "b8ba02ec-6670-4946-90df-7f8a4928a5e5",
   "metadata": {},
   "outputs": [],
   "source": [
    "m=[9,12,25,16,14,15,18,27,36,45,81,66,47,72,48,96,99,102,108,121,125,128,132,135,140]"
   ]
  },
  {
   "cell_type": "code",
   "execution_count": 29,
   "id": "7383505e-7b20-4225-a419-840217430a8a",
   "metadata": {},
   "outputs": [
    {
     "name": "stdout",
     "output_type": "stream",
     "text": [
      "9 is divisible by 3\n",
      "12 is divisible by 3\n",
      "25 is not divisible by 3\n",
      "16 is not divisible by 3\n",
      "14 is not divisible by 3\n",
      "15 is divisible by 3\n",
      "18 is divisible by 3\n",
      "27 is divisible by 3\n",
      "36 is divisible by 3\n",
      "45 is divisible by 3\n",
      "81 is divisible by 3\n",
      "66 is divisible by 3\n",
      "47 is not divisible by 3\n",
      "72 is divisible by 3\n",
      "48 is divisible by 3\n",
      "96 is divisible by 3\n",
      "99 is divisible by 3\n",
      "102 is divisible by 3\n",
      "108 is divisible by 3\n",
      "121 is not divisible by 3\n",
      "125 is not divisible by 3\n",
      "128 is not divisible by 3\n",
      "132 is divisible by 3\n",
      "135 is divisible by 3\n",
      "140 is not divisible by 3\n"
     ]
    }
   ],
   "source": [
    "for x in m:\n",
    "    if x%3==0:\n",
    "        print(f\"{x} is divisible by 3\")\n",
    "    else:\n",
    "        print(f\"{x} is not divisible by 3\")"
   ]
  },
  {
   "cell_type": "markdown",
   "id": "06240de1-40fc-4289-8f48-01a427c7b87b",
   "metadata": {},
   "source": [
    "ANS.7 \n",
    "In Python, mutable data types are those that can be changed or modified after creation, while immutable data types cannot be changed once they are created.\n",
    "Ex. mutable :- list\n",
    "    immutable :- string,int"
   ]
  }
 ],
 "metadata": {
  "kernelspec": {
   "display_name": "Python 3 (ipykernel)",
   "language": "python",
   "name": "python3"
  },
  "language_info": {
   "codemirror_mode": {
    "name": "ipython",
    "version": 3
   },
   "file_extension": ".py",
   "mimetype": "text/x-python",
   "name": "python",
   "nbconvert_exporter": "python",
   "pygments_lexer": "ipython3",
   "version": "3.10.8"
  }
 },
 "nbformat": 4,
 "nbformat_minor": 5
}
